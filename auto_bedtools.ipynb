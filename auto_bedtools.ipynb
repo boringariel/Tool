{
 "cells": [
  {
   "cell_type": "code",
   "execution_count": null,
   "id": "0cf26934-fc43-4ee8-a669-9d66748fd105",
   "metadata": {},
   "outputs": [],
   "source": [
    "import os\n",
    "import subprocess\n",
    "\n",
    "filelist = []\n",
    "#목표 path 적어넣기\n",
    "for (path, dir, files) in os.walk(\"/media/dxome/Backup/Piseq_Backup/WGS_Project/Benign\"):\n",
    "    for filename in files:\n",
    "        #끄트머리에 dup.ba 포함한 파일 경로 검색\n",
    "        if 'dup.ba' == filename[-7:-1]:\n",
    "            filelist.append('%s/%s' % (path, filename))\n",
    "\n",
    "#report.txt 파일에 목표 파일 경로 저장\n",
    "with open('report.txt', 'w') as f:\n",
    "    for fl in filelist:\n",
    "        f.write(fl+'\\n')\n",
    "\n",
    "#bedtools 이용한 intersect region 확인\n",
    "#offtarget 폴더에 결과물 저장. 없을 경우 미리 생성해야 함\n",
    "#끄트머리에 -v 옵션이 있는 경우 offtarget 대상으로 변경됨\n",
    "for i in filelist:\n",
    "    temp = subprocess.check_output(\n",
    "        'bedtools intersect -a '+filelist[0]+' -b /media/src/target/ovary.ctdna.exon.bed >offtarget/'+filelist[0].split('/')[-1]+'_filtered.bam -v', shell=True)"
   ]
  }
 ],
 "metadata": {
  "kernelspec": {
   "display_name": "Python 3",
   "language": "python",
   "name": "python3"
  },
  "language_info": {
   "codemirror_mode": {
    "name": "ipython",
    "version": 3
   },
   "file_extension": ".py",
   "mimetype": "text/x-python",
   "name": "python",
   "nbconvert_exporter": "python",
   "pygments_lexer": "ipython3",
   "version": "3.7.10"
  }
 },
 "nbformat": 4,
 "nbformat_minor": 5
}
