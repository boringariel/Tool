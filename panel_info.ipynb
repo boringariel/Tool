{
 "cells": [
  {
   "cell_type": "code",
   "execution_count": 1,
   "id": "0505b79b-5552-419f-b048-e75d2974c4a9",
   "metadata": {},
   "outputs": [],
   "source": [
    "#panel 정보를 실험샘플과 매칭시키는 프로그램\n",
    "import pandas as pd"
   ]
  },
  {
   "cell_type": "code",
   "execution_count": 2,
   "id": "a7daeea5-cfab-4e7e-817a-acff5c5325e5",
   "metadata": {},
   "outputs": [
    {
     "name": "stderr",
     "output_type": "stream",
     "text": [
      "C:\\Users\\K\\Anaconda3\\lib\\site-packages\\openpyxl\\worksheet\\_reader.py:312: UserWarning: Unknown extension is not supported and will be removed\n",
      "  warn(msg)\n"
     ]
    }
   ],
   "source": [
    "note = pd.read_excel('./note/ctDNA_NGS실험노트_2021년_하반기.xlsx', sheet_name='Sample 종합(SEV)', header=4)\n",
    "sample = pd.read_csv('./sample.tsv', sep='\\t', header=None)"
   ]
  },
  {
   "cell_type": "code",
   "execution_count": 3,
   "id": "60167dd6-bf26-4a22-872f-78e2c2ebc949",
   "metadata": {},
   "outputs": [],
   "source": [
    "note2 = note[['Project_ID', 'Panel']]\n",
    "note2.index = note2['Project_ID']\n",
    "note2.index = note2.index.str.replace(pat='_', repl=r'', regex=True)"
   ]
  },
  {
   "cell_type": "code",
   "execution_count": 4,
   "id": "d77897db-d0a1-4a80-9598-8c5cbe82f0c8",
   "metadata": {},
   "outputs": [],
   "source": [
    "for i in (sample.columns):\n",
    "    if i%2 == 1:\n",
    "        panels = []\n",
    "        for j in range(sample.shape[0]):\n",
    "            try:\n",
    "                target = sample.iloc[j, i].split('.')[0].split('_')[0].upper()\n",
    "            except:\n",
    "                target = 'NaN'\n",
    "            m = note2.index == target\n",
    "            try:\n",
    "                panel = note2[m]['Panel'].values[0]\n",
    "            except:\n",
    "                panel = 'NaN'\n",
    "            panels.append(panel)\n",
    "            \n",
    "        sample[i-1] = panels"
   ]
  },
  {
   "cell_type": "code",
   "execution_count": null,
   "id": "320cc3ad-4712-4d99-9438-fb95e17abbe7",
   "metadata": {},
   "outputs": [],
   "source": [
    "sample.to_csv('./panel_info.csv', index=False)"
   ]
  }
 ],
 "metadata": {
  "kernelspec": {
   "display_name": "Python 3",
   "language": "python",
   "name": "python3"
  },
  "language_info": {
   "codemirror_mode": {
    "name": "ipython",
    "version": 3
   },
   "file_extension": ".py",
   "mimetype": "text/x-python",
   "name": "python",
   "nbconvert_exporter": "python",
   "pygments_lexer": "ipython3",
   "version": "3.7.10"
  }
 },
 "nbformat": 4,
 "nbformat_minor": 5
}
