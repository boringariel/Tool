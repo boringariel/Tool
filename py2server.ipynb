{
 "cells": [
  {
   "cell_type": "code",
   "execution_count": null,
   "id": "3f104dbc-3f08-4988-9910-eac755ac2995",
   "metadata": {},
   "outputs": [],
   "source": [
    "import paramiko\n",
    "import getpass"
   ]
  },
  {
   "cell_type": "code",
   "execution_count": null,
   "id": "8d3178a2-2368-4dd6-add4-50370edcf1c7",
   "metadata": {},
   "outputs": [],
   "source": [
    "cli = paramiko.SSHClient()\n",
    "cli.set_missing_host_key_policy(paramiko.AutoAddPolicy)\n",
    " \n",
    "server = '192.168.0.'\n",
    "user = 'username'  \n",
    "pwd = 'password'\n",
    "\n",
    "server = server+input('server?: ')\n",
    "cli.connect(server, port=22, username=user, password=pwd)\n",
    "\n",
    "sftp = cli.open_sftp()"
   ]
  },
  {
   "cell_type": "code",
   "execution_count": null,
   "id": "216a2d97-86ef-41cb-bd80-c9bd2dd175cc",
   "metadata": {},
   "outputs": [],
   "source": [
    "sftp.put('./QCcheck.py', '/media/dxome/Backup/Piseq_Backup/210827_Cxca/QCcheck.py')"
   ]
  },
  {
   "cell_type": "code",
   "execution_count": null,
   "id": "a5ce6168-11c2-414d-916b-2d27e6891cae",
   "metadata": {},
   "outputs": [],
   "source": [
    "sftp.get('/media/dxome/Backup/Piseq_Backup/210827_Cxca/qcres.csv', './qcres.csv')\n",
    "\n",
    "stdin, stdout, stderr = cli.exec_command(\"cd /media/dxome/Backup/Piseq_Backup/210827_Cxca;rm qcres.csv;rm QCcheck.py\")\n",
    "\n",
    "cli.close()"
   ]
  }
 ],
 "metadata": {
  "kernelspec": {
   "display_name": "Python 3",
   "language": "python",
   "name": "python3"
  },
  "language_info": {
   "codemirror_mode": {
    "name": "ipython",
    "version": 3
   },
   "file_extension": ".py",
   "mimetype": "text/x-python",
   "name": "python",
   "nbconvert_exporter": "python",
   "pygments_lexer": "ipython3",
   "version": "3.7.10"
  }
 },
 "nbformat": 4,
 "nbformat_minor": 5
}
